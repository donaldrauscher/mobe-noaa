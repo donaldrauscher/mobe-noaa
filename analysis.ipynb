{
 "cells": [
  {
   "cell_type": "code",
   "execution_count": 1,
   "metadata": {},
   "outputs": [],
   "source": [
    "from math import sin, cos, sqrt, atan2, radians, floor\n",
    "import glob\n",
    "import re\n",
    "\n",
    "import pandas as pd\n",
    "import numpy as np\n",
    "\n",
    "from sklearn.linear_model import LinearRegression\n",
    "from sklearn.pipeline import Pipeline\n",
    "from sklearn.model_selection import ParameterGrid, GridSearchCV, LeaveOneOut\n",
    "from sklearn.preprocessing import FunctionTransformer, Imputer\n",
    "\n",
    "import matplotlib.pyplot as plt\n",
    "%matplotlib inline"
   ]
  },
  {
   "cell_type": "code",
   "execution_count": 2,
   "metadata": {},
   "outputs": [],
   "source": [
    "!rm -Rf data/"
   ]
  },
  {
   "cell_type": "markdown",
   "metadata": {},
   "source": [
    "### Download list of GSOP stations"
   ]
  },
  {
   "cell_type": "code",
   "execution_count": 3,
   "metadata": {},
   "outputs": [
    {
     "name": "stdout",
     "output_type": "stream",
     "text": [
      "--2018-07-18 14:46:21--  ftp://ftp.ncdc.noaa.gov/pub/data/noaa/isd-history.csv\n",
      "           => ‘data/isd-history.csv’\n",
      "Resolving ftp.ncdc.noaa.gov (ftp.ncdc.noaa.gov)... 205.167.25.101, 2610:20:8040:2::101\n",
      "Connecting to ftp.ncdc.noaa.gov (ftp.ncdc.noaa.gov)|205.167.25.101|:21... connected.\n",
      "Logging in as anonymous ... Logged in!\n",
      "==> SYST ... done.    ==> PWD ... done.\n",
      "==> TYPE I ... done.  ==> CWD (1) /pub/data/noaa ... done.\n",
      "==> SIZE isd-history.csv ... 2905356\n",
      "==> PASV ... done.    ==> RETR isd-history.csv ... done.\n",
      "Length: 2905356 (2.8M) (unauthoritative)\n",
      "\n",
      "isd-history.csv     100%[===================>]   2.77M  3.87MB/s    in 0.7s    \n",
      "\n",
      "2018-07-18 14:46:22 (3.87 MB/s) - ‘data/isd-history.csv’ saved [2905356]\n",
      "\n"
     ]
    }
   ],
   "source": [
    "!wget ftp://ftp.ncdc.noaa.gov/pub/data/noaa/isd-history.csv --directory-prefix data"
   ]
  },
  {
   "cell_type": "code",
   "execution_count": 4,
   "metadata": {},
   "outputs": [
    {
     "name": "stdout",
     "output_type": "stream",
     "text": [
      "29630 data/isd-history.csv\n"
     ]
    }
   ],
   "source": [
    "!wc -l data/isd-history.csv"
   ]
  },
  {
   "cell_type": "code",
   "execution_count": 5,
   "metadata": {},
   "outputs": [
    {
     "data": {
      "text/html": [
       "<div>\n",
       "<style scoped>\n",
       "    .dataframe tbody tr th:only-of-type {\n",
       "        vertical-align: middle;\n",
       "    }\n",
       "\n",
       "    .dataframe tbody tr th {\n",
       "        vertical-align: top;\n",
       "    }\n",
       "\n",
       "    .dataframe thead th {\n",
       "        text-align: right;\n",
       "    }\n",
       "</style>\n",
       "<table border=\"1\" class=\"dataframe\">\n",
       "  <thead>\n",
       "    <tr style=\"text-align: right;\">\n",
       "      <th></th>\n",
       "      <th>USAF</th>\n",
       "      <th>WBAN</th>\n",
       "      <th>STATION NAME</th>\n",
       "      <th>CTRY</th>\n",
       "      <th>STATE</th>\n",
       "      <th>ICAO</th>\n",
       "      <th>LAT</th>\n",
       "      <th>LON</th>\n",
       "      <th>ELEV(M)</th>\n",
       "      <th>BEGIN</th>\n",
       "      <th>END</th>\n",
       "    </tr>\n",
       "  </thead>\n",
       "  <tbody>\n",
       "    <tr>\n",
       "      <th>9657</th>\n",
       "      <td>423630</td>\n",
       "      <td>99999</td>\n",
       "      <td>MISSISSIPPI CANYON OIL PLATFORM</td>\n",
       "      <td>US</td>\n",
       "      <td>LA</td>\n",
       "      <td>NaN</td>\n",
       "      <td>28.160</td>\n",
       "      <td>-89.220</td>\n",
       "      <td>37.0</td>\n",
       "      <td>20130206</td>\n",
       "      <td>20151231</td>\n",
       "    </tr>\n",
       "    <tr>\n",
       "      <th>13053</th>\n",
       "      <td>619760</td>\n",
       "      <td>99999</td>\n",
       "      <td>SERGE-FROLOW (ILE TROMELIN)</td>\n",
       "      <td>US</td>\n",
       "      <td>NaN</td>\n",
       "      <td>NaN</td>\n",
       "      <td>-15.883</td>\n",
       "      <td>54.517</td>\n",
       "      <td>13.0</td>\n",
       "      <td>19730101</td>\n",
       "      <td>20180716</td>\n",
       "    </tr>\n",
       "    <tr>\n",
       "      <th>13087</th>\n",
       "      <td>621010</td>\n",
       "      <td>99999</td>\n",
       "      <td>MOORED BUOY</td>\n",
       "      <td>US</td>\n",
       "      <td>NaN</td>\n",
       "      <td>NaN</td>\n",
       "      <td>50.600</td>\n",
       "      <td>-2.933</td>\n",
       "      <td>-999.0</td>\n",
       "      <td>20080721</td>\n",
       "      <td>20080721</td>\n",
       "    </tr>\n",
       "    <tr>\n",
       "      <th>13089</th>\n",
       "      <td>621110</td>\n",
       "      <td>99999</td>\n",
       "      <td>MOORED BUOY</td>\n",
       "      <td>US</td>\n",
       "      <td>NaN</td>\n",
       "      <td>NaN</td>\n",
       "      <td>58.900</td>\n",
       "      <td>-0.200</td>\n",
       "      <td>-999.0</td>\n",
       "      <td>20041118</td>\n",
       "      <td>20091201</td>\n",
       "    </tr>\n",
       "    <tr>\n",
       "      <th>13090</th>\n",
       "      <td>621130</td>\n",
       "      <td>99999</td>\n",
       "      <td>MOORED BUOY</td>\n",
       "      <td>US</td>\n",
       "      <td>NaN</td>\n",
       "      <td>NaN</td>\n",
       "      <td>58.400</td>\n",
       "      <td>0.300</td>\n",
       "      <td>-999.0</td>\n",
       "      <td>20040726</td>\n",
       "      <td>20040726</td>\n",
       "    </tr>\n",
       "  </tbody>\n",
       "</table>\n",
       "</div>"
      ],
      "text/plain": [
       "         USAF   WBAN                     STATION NAME CTRY STATE ICAO     LAT  \\\n",
       "9657   423630  99999  MISSISSIPPI CANYON OIL PLATFORM   US    LA  NaN  28.160   \n",
       "13053  619760  99999      SERGE-FROLOW (ILE TROMELIN)   US   NaN  NaN -15.883   \n",
       "13087  621010  99999                      MOORED BUOY   US   NaN  NaN  50.600   \n",
       "13089  621110  99999                      MOORED BUOY   US   NaN  NaN  58.900   \n",
       "13090  621130  99999                      MOORED BUOY   US   NaN  NaN  58.400   \n",
       "\n",
       "          LON  ELEV(M)     BEGIN       END  \n",
       "9657  -89.220     37.0  20130206  20151231  \n",
       "13053  54.517     13.0  19730101  20180716  \n",
       "13087  -2.933   -999.0  20080721  20080721  \n",
       "13089  -0.200   -999.0  20041118  20091201  \n",
       "13090   0.300   -999.0  20040726  20040726  "
      ]
     },
     "execution_count": 5,
     "metadata": {},
     "output_type": "execute_result"
    }
   ],
   "source": [
    "# load data, filter to US and Canada and stations with locations\n",
    "stations = pd.read_csv('data/isd-history.csv')\n",
    "stations = stations.loc[stations.CTRY.isin(['US', 'CA']), :]\n",
    "stations = stations.loc[~((stations.LAT.fillna(0) == 0) & (stations.LON.fillna(0) == 0)), :]\n",
    "stations.head(5)"
   ]
  },
  {
   "cell_type": "markdown",
   "metadata": {},
   "source": [
    "### Identify stations closest to MOBE"
   ]
  },
  {
   "cell_type": "code",
   "execution_count": 6,
   "metadata": {},
   "outputs": [],
   "source": [
    "# location of mobe\n",
    "mobe_lat, mobe_lon = (45.0150428, -93.456006)\n",
    "\n",
    "# haversine distance between two points\n",
    "def haversine(lat1, lon1, lat2=mobe_lat, lon2=mobe_lon):\n",
    "    # approximate radius of earth in km\n",
    "    R = 6373.0\n",
    "\n",
    "    lat1 = radians(lat1)\n",
    "    lon1 = radians(lon1)\n",
    "    lat2 = radians(lat2)\n",
    "    lon2 = radians(lon2)\n",
    "\n",
    "    dlon = lon2 - lon1\n",
    "    dlat = lat2 - lat1\n",
    "\n",
    "    a = sin(dlat / 2)**2 + cos(lat1) * cos(lat2) * sin(dlon / 2)**2\n",
    "    c = 2 * atan2(sqrt(a), sqrt(1 - a))\n",
    "\n",
    "    return R * c"
   ]
  },
  {
   "cell_type": "code",
   "execution_count": 7,
   "metadata": {},
   "outputs": [
    {
     "data": {
      "text/html": [
       "<div>\n",
       "<style scoped>\n",
       "    .dataframe tbody tr th:only-of-type {\n",
       "        vertical-align: middle;\n",
       "    }\n",
       "\n",
       "    .dataframe tbody tr th {\n",
       "        vertical-align: top;\n",
       "    }\n",
       "\n",
       "    .dataframe thead th {\n",
       "        text-align: right;\n",
       "    }\n",
       "</style>\n",
       "<table border=\"1\" class=\"dataframe\">\n",
       "  <thead>\n",
       "    <tr style=\"text-align: right;\">\n",
       "      <th></th>\n",
       "      <th>USAF</th>\n",
       "      <th>WBAN</th>\n",
       "      <th>STATION NAME</th>\n",
       "      <th>CTRY</th>\n",
       "      <th>STATE</th>\n",
       "      <th>ICAO</th>\n",
       "      <th>LAT</th>\n",
       "      <th>LON</th>\n",
       "      <th>ELEV(M)</th>\n",
       "      <th>BEGIN</th>\n",
       "      <th>END</th>\n",
       "      <th>distance</th>\n",
       "    </tr>\n",
       "  </thead>\n",
       "  <tbody>\n",
       "    <tr>\n",
       "      <th>20859</th>\n",
       "      <td>726580</td>\n",
       "      <td>14922</td>\n",
       "      <td>MINNEAPOLIS-ST PAUL INTERNATIONAL AP</td>\n",
       "      <td>US</td>\n",
       "      <td>MN</td>\n",
       "      <td>KMSP</td>\n",
       "      <td>44.883</td>\n",
       "      <td>-93.229</td>\n",
       "      <td>265.8</td>\n",
       "      <td>19450101</td>\n",
       "      <td>20180717</td>\n",
       "      <td>23.131246</td>\n",
       "    </tr>\n",
       "    <tr>\n",
       "      <th>20862</th>\n",
       "      <td>726584</td>\n",
       "      <td>14927</td>\n",
       "      <td>ST PAUL DWTWN HOLMAN FD AP</td>\n",
       "      <td>US</td>\n",
       "      <td>MN</td>\n",
       "      <td>KSTP</td>\n",
       "      <td>44.932</td>\n",
       "      <td>-93.056</td>\n",
       "      <td>213.4</td>\n",
       "      <td>19831103</td>\n",
       "      <td>20180717</td>\n",
       "      <td>32.802851</td>\n",
       "    </tr>\n",
       "    <tr>\n",
       "      <th>20810</th>\n",
       "      <td>726550</td>\n",
       "      <td>14926</td>\n",
       "      <td>ST CLOUD REGIONAL AIRPORT</td>\n",
       "      <td>US</td>\n",
       "      <td>MN</td>\n",
       "      <td>KSTC</td>\n",
       "      <td>45.543</td>\n",
       "      <td>-94.051</td>\n",
       "      <td>307.5</td>\n",
       "      <td>19730101</td>\n",
       "      <td>20180717</td>\n",
       "      <td>74.947609</td>\n",
       "    </tr>\n",
       "  </tbody>\n",
       "</table>\n",
       "</div>"
      ],
      "text/plain": [
       "         USAF   WBAN                          STATION NAME CTRY STATE  ICAO  \\\n",
       "20859  726580  14922  MINNEAPOLIS-ST PAUL INTERNATIONAL AP   US    MN  KMSP   \n",
       "20862  726584  14927            ST PAUL DWTWN HOLMAN FD AP   US    MN  KSTP   \n",
       "20810  726550  14926             ST CLOUD REGIONAL AIRPORT   US    MN  KSTC   \n",
       "\n",
       "          LAT     LON  ELEV(M)     BEGIN       END   distance  \n",
       "20859  44.883 -93.229    265.8  19450101  20180717  23.131246  \n",
       "20862  44.932 -93.056    213.4  19831103  20180717  32.802851  \n",
       "20810  45.543 -94.051    307.5  19730101  20180717  74.947609  "
      ]
     },
     "execution_count": 7,
     "metadata": {},
     "output_type": "execute_result"
    }
   ],
   "source": [
    "# distance of each station from MOBE\n",
    "stations['distance'] = stations.apply(lambda row: haversine(row['LAT'], row['LON']), axis=1)\n",
    "stations.sort_values(by=['distance'], ascending=True, inplace=True)\n",
    "stations = stations.loc[(stations.BEGIN <= 19980000) & (stations.END >= 20170000), :]\n",
    "stations.head(3)"
   ]
  },
  {
   "cell_type": "markdown",
   "metadata": {},
   "source": [
    "### Download station/year files for closest stations"
   ]
  },
  {
   "cell_type": "code",
   "execution_count": 8,
   "metadata": {},
   "outputs": [],
   "source": [
    "top3 = stations.apply(lambda row: '{}-{}'.format(row['USAF'], row['WBAN']), axis=1).head(3).tolist()\n",
    "top3 = ' '.join(top3)"
   ]
  },
  {
   "cell_type": "code",
   "execution_count": 9,
   "metadata": {},
   "outputs": [
    {
     "name": "stderr",
     "output_type": "stream",
     "text": [
      "gzip: data/726584-14927-2000.op.gz: No such file or directory\n",
      "gzip: data/726584-14927-2001.op.gz: No such file or directory\n",
      "gzip: data/726584-14927-2002.op.gz: No such file or directory\n",
      "gzip: data/726584-14927-2003.op.gz: No such file or directory\n"
     ]
    }
   ],
   "source": [
    "%%bash -s \"{top3}\"\n",
    "for prefix in $@; do\n",
    "    for year in {1998..2017}; do\n",
    "        wget ftp://ftp.ncdc.noaa.gov/pub/data/gsod/$year/$prefix-$year.op.gz --quiet --directory-prefix data\n",
    "        gunzip data/$prefix-$year.op.gz\n",
    "    done\n",
    "done"
   ]
  },
  {
   "cell_type": "code",
   "execution_count": 10,
   "metadata": {},
   "outputs": [],
   "source": [
    "# load data\n",
    "list_ = []\n",
    "for file_ in glob.glob(\"data/*.op\"):\n",
    "    df = pd.read_fwf(file_)\n",
    "    list_.append(df)\n",
    "df = pd.concat(list_)"
   ]
  },
  {
   "cell_type": "code",
   "execution_count": 11,
   "metadata": {},
   "outputs": [
    {
     "data": {
      "text/html": [
       "<div>\n",
       "<style scoped>\n",
       "    .dataframe tbody tr th:only-of-type {\n",
       "        vertical-align: middle;\n",
       "    }\n",
       "\n",
       "    .dataframe tbody tr th {\n",
       "        vertical-align: top;\n",
       "    }\n",
       "\n",
       "    .dataframe thead th {\n",
       "        text-align: right;\n",
       "    }\n",
       "</style>\n",
       "<table border=\"1\" class=\"dataframe\">\n",
       "  <thead>\n",
       "    <tr style=\"text-align: right;\">\n",
       "      <th></th>\n",
       "      <th>STN---</th>\n",
       "      <th>WBAN</th>\n",
       "      <th>YEARMODA</th>\n",
       "      <th>TEMP</th>\n",
       "      <th>DEWP</th>\n",
       "      <th>SLP</th>\n",
       "      <th>STP</th>\n",
       "      <th>VISIB</th>\n",
       "      <th>WDSP</th>\n",
       "      <th>MXSPD</th>\n",
       "      <th>GUST</th>\n",
       "      <th>MAX</th>\n",
       "      <th>MIN</th>\n",
       "      <th>PRCP</th>\n",
       "      <th>SNDP</th>\n",
       "      <th>FRSHTT</th>\n",
       "    </tr>\n",
       "  </thead>\n",
       "  <tbody>\n",
       "    <tr>\n",
       "      <th>0</th>\n",
       "      <td>726550</td>\n",
       "      <td>14926</td>\n",
       "      <td>19980101</td>\n",
       "      <td>22.3</td>\n",
       "      <td>17.7</td>\n",
       "      <td>1008.8</td>\n",
       "      <td>969.1</td>\n",
       "      <td>9.4</td>\n",
       "      <td>8.3</td>\n",
       "      <td>14.0</td>\n",
       "      <td>999.9</td>\n",
       "      <td>39.0*</td>\n",
       "      <td>8.1*</td>\n",
       "      <td>0.00G</td>\n",
       "      <td>999.9</td>\n",
       "      <td>100000</td>\n",
       "    </tr>\n",
       "    <tr>\n",
       "      <th>1</th>\n",
       "      <td>726550</td>\n",
       "      <td>14926</td>\n",
       "      <td>19980102</td>\n",
       "      <td>30.9</td>\n",
       "      <td>27.7</td>\n",
       "      <td>1005.0</td>\n",
       "      <td>966.3</td>\n",
       "      <td>9.2</td>\n",
       "      <td>5.8</td>\n",
       "      <td>11.1</td>\n",
       "      <td>999.9</td>\n",
       "      <td>39.0*</td>\n",
       "      <td>21.9*</td>\n",
       "      <td>0.00D</td>\n",
       "      <td>999.9</td>\n",
       "      <td>100000</td>\n",
       "    </tr>\n",
       "    <tr>\n",
       "      <th>2</th>\n",
       "      <td>726550</td>\n",
       "      <td>14926</td>\n",
       "      <td>19980103</td>\n",
       "      <td>16.4</td>\n",
       "      <td>11.3</td>\n",
       "      <td>1015.6</td>\n",
       "      <td>975.8</td>\n",
       "      <td>8.7</td>\n",
       "      <td>10.9</td>\n",
       "      <td>21.0</td>\n",
       "      <td>22.0</td>\n",
       "      <td>32.0*</td>\n",
       "      <td>7.0*</td>\n",
       "      <td>0.00C</td>\n",
       "      <td>999.9</td>\n",
       "      <td>100000</td>\n",
       "    </tr>\n",
       "    <tr>\n",
       "      <th>3</th>\n",
       "      <td>726550</td>\n",
       "      <td>14926</td>\n",
       "      <td>19980104</td>\n",
       "      <td>11.5</td>\n",
       "      <td>4.2</td>\n",
       "      <td>1027.2</td>\n",
       "      <td>986.3</td>\n",
       "      <td>9.9</td>\n",
       "      <td>5.9</td>\n",
       "      <td>10.1</td>\n",
       "      <td>999.9</td>\n",
       "      <td>24.1*</td>\n",
       "      <td>3.9*</td>\n",
       "      <td>0.00C</td>\n",
       "      <td>999.9</td>\n",
       "      <td>000000</td>\n",
       "    </tr>\n",
       "    <tr>\n",
       "      <th>4</th>\n",
       "      <td>726550</td>\n",
       "      <td>14926</td>\n",
       "      <td>19980105</td>\n",
       "      <td>24.3</td>\n",
       "      <td>22.0</td>\n",
       "      <td>1019.2</td>\n",
       "      <td>979.6</td>\n",
       "      <td>7.9</td>\n",
       "      <td>6.1</td>\n",
       "      <td>8.0</td>\n",
       "      <td>999.9</td>\n",
       "      <td>30.2*</td>\n",
       "      <td>21.0*</td>\n",
       "      <td>0.00H</td>\n",
       "      <td>999.9</td>\n",
       "      <td>111000</td>\n",
       "    </tr>\n",
       "  </tbody>\n",
       "</table>\n",
       "</div>"
      ],
      "text/plain": [
       "   STN---   WBAN  YEARMODA  TEMP  DEWP     SLP    STP  VISIB  WDSP  MXSPD  \\\n",
       "0  726550  14926  19980101  22.3  17.7  1008.8  969.1    9.4   8.3   14.0   \n",
       "1  726550  14926  19980102  30.9  27.7  1005.0  966.3    9.2   5.8   11.1   \n",
       "2  726550  14926  19980103  16.4  11.3  1015.6  975.8    8.7  10.9   21.0   \n",
       "3  726550  14926  19980104  11.5   4.2  1027.2  986.3    9.9   5.9   10.1   \n",
       "4  726550  14926  19980105  24.3  22.0  1019.2  979.6    7.9   6.1    8.0   \n",
       "\n",
       "    GUST    MAX    MIN   PRCP   SNDP  FRSHTT  \n",
       "0  999.9  39.0*   8.1*  0.00G  999.9  100000  \n",
       "1  999.9  39.0*  21.9*  0.00D  999.9  100000  \n",
       "2   22.0  32.0*   7.0*  0.00C  999.9  100000  \n",
       "3  999.9  24.1*   3.9*  0.00C  999.9  000000  \n",
       "4  999.9  30.2*  21.0*  0.00H  999.9  111000  "
      ]
     },
     "execution_count": 11,
     "metadata": {},
     "output_type": "execute_result"
    }
   ],
   "source": [
    "# cleanup\n",
    "df = df.loc[:, ~df.columns.str.startswith('Unnamed')]\n",
    "df['FRSHTT'] = df.FRSHTT.apply(lambda x: str(x).zfill(6))\n",
    "df.head(5)"
   ]
  },
  {
   "cell_type": "markdown",
   "metadata": {},
   "source": [
    "### Calculate total snowfall and average temperature by year"
   ]
  },
  {
   "cell_type": "code",
   "execution_count": 12,
   "metadata": {},
   "outputs": [],
   "source": [
    "# calculate snowfall and average temperature by year\n",
    "has_prcp = ~df.PRCP.str.startswith('99.9')\n",
    "is_snow = df.FRSHTT.apply(lambda x: int(x[2])) > 0\n",
    "is_winter = df.YEARMODA.apply(lambda x: x % 10000).between(101, 331) | \\\n",
    "            df.YEARMODA.apply(lambda x: x % 10000).between(1001, 1231)\n",
    "\n",
    "df2 = df.copy()\n",
    "df2['PRCP'] = df2.PRCP.apply(lambda x: float(x[:-1]))\n",
    "\n",
    "df2.loc[~is_winter, ['TEMP']] = np.nan\n",
    "df2.loc[~is_snow, ['PRCP']] = 0\n",
    "df2.loc[~has_prcp, ['PRCP']] = np.nan\n",
    "\n",
    "# average across stations first\n",
    "df2 = df2.groupby(by=['YEARMODA'], as_index=False).agg({'PRCP': 'mean', 'TEMP': 'mean'})\n",
    "\n",
    "# aggregate to annual basis\n",
    "df2['YEAR'] = df2.YEARMODA.apply(lambda x: floor(x/10000))\n",
    "df2 = df2.groupby(by=['YEAR'], as_index=False).agg({'PRCP': 'sum', 'TEMP': 'mean'})\n",
    "df2['PRCP'] = df2.PRCP * 13"
   ]
  },
  {
   "cell_type": "code",
   "execution_count": 13,
   "metadata": {},
   "outputs": [
    {
     "data": {
      "text/plain": [
       "52.93925"
      ]
     },
     "execution_count": 13,
     "metadata": {},
     "output_type": "execute_result"
    }
   ],
   "source": [
    "df2.PRCP.mean()"
   ]
  },
  {
   "cell_type": "code",
   "execution_count": 14,
   "metadata": {},
   "outputs": [
    {
     "data": {
      "image/png": "[encoded data removed]",
      "text/plain": [
       "<Figure size 864x360 with 2 Axes>"
      ]
     },
     "metadata": {},
     "output_type": "display_data"
    }
   ],
   "source": [
    "# plot\n",
    "x = df2.YEAR\n",
    "y1 = df2.PRCP\n",
    "y2 = df2.TEMP\n",
    "\n",
    "fig, ax1 = plt.subplots(figsize=(12, 5))\n",
    "\n",
    "color = 'tab:red'\n",
    "ax1.set_xlabel('Year')\n",
    "ax1.set_ylabel('Snowfall', color=color)\n",
    "ax1.plot(x, y1, color=color)\n",
    "ax1.tick_params(axis='y', labelcolor=color)\n",
    "\n",
    "ax2 = ax1.twinx()\n",
    "\n",
    "color = 'tab:blue'\n",
    "ax2.set_ylabel('Mean Temperature (C)', color=color)\n",
    "ax2.plot(x, y2, color=color)\n",
    "ax2.tick_params(axis='y', labelcolor=color)\n",
    "\n",
    "fig.tight_layout()\n",
    "plt.xticks(x)\n",
    "plt.show()"
   ]
  },
  {
   "cell_type": "markdown",
   "metadata": {},
   "source": [
    "### Temperature prediction"
   ]
  },
  {
   "cell_type": "code",
   "execution_count": 15,
   "metadata": {},
   "outputs": [
    {
     "name": "stdout",
     "output_type": "stream",
     "text": [
      "Best params: {'ft__kw_args': {'window': 4}}\n"
     ]
    }
   ],
   "source": [
    "# simply model using trailing n-year temperature\n",
    "def add_rolling(df, window):\n",
    "    df2 = df.copy()\n",
    "    df2['TEMP_LAG1'] = df2.TEMP.shift(1)\n",
    "    df2['TEMP_ROLLING'] = df2.rolling(window=window, min_periods=1).mean()['TEMP_LAG1']\n",
    "    return df2[['TEMP_ROLLING']]\n",
    "\n",
    "model = Pipeline(steps=[\n",
    "    ('ft', FunctionTransformer(func=add_rolling, validate=False, kw_args={'window': 3})),\n",
    "    ('im', Imputer()),\n",
    "    ('lr', LinearRegression())\n",
    "])\n",
    "\n",
    "param_grid = {'ft__kw_args': [{'window': i} for i in range(1, 6)]}\n",
    "\n",
    "loo = LeaveOneOut()\n",
    "tuner = GridSearchCV(model, param_grid, scoring=\"neg_mean_absolute_error\", cv=loo, refit=False)\n",
    "tuner.fit(df2, df2.TEMP)\n",
    "\n",
    "cv_results = np.array([v for k,v in tuner.cv_results_.items() if re.match(\"split[0-9]*_train_score\", k)]).mean(axis=0)\n",
    "best_params_idx = np.argmax(cv_results)\n",
    "best_params = ParameterGrid(param_grid)[best_params_idx]\n",
    "\n",
    "print('Best params: %s' % (str(best_params)))"
   ]
  },
  {
   "cell_type": "code",
   "execution_count": 16,
   "metadata": {},
   "outputs": [
    {
     "data": {
      "text/plain": [
       "29.786302588872168"
      ]
     },
     "execution_count": 16,
     "metadata": {},
     "output_type": "execute_result"
    }
   ],
   "source": [
    "# generate prediction\n",
    "window = best_params['ft__kw_args']['window']\n",
    "model.set_params(**best_params)\n",
    "model.fit(df2, df2.TEMP)\n",
    "temp_pred = model.predict(df2.tail(window + 1))[-1]\n",
    "temp_pred"
   ]
  },
  {
   "cell_type": "markdown",
   "metadata": {},
   "source": [
    "### Snow prediction based on temperature prediction"
   ]
  },
  {
   "cell_type": "code",
   "execution_count": 17,
   "metadata": {},
   "outputs": [
    {
     "data": {
      "text/plain": [
       "array([-3.01147976])"
      ]
     },
     "execution_count": 17,
     "metadata": {},
     "output_type": "execute_result"
    }
   ],
   "source": [
    "# simple model for snowfall as a function of temperature\n",
    "# negative coefficient --> warmer = less snow\n",
    "model2 = LinearRegression()\n",
    "model2.fit(df2.TEMP.values.reshape(-1, 1), df2.PRCP)\n",
    "model2.coef_"
   ]
  },
  {
   "cell_type": "code",
   "execution_count": 18,
   "metadata": {},
   "outputs": [
    {
     "data": {
      "text/plain": [
       "50.96803649148019"
      ]
     },
     "execution_count": 18,
     "metadata": {},
     "output_type": "execute_result"
    }
   ],
   "source": [
    "# generate prediction\n",
    "snow_pred = model2.predict(np.array(temp_pred).reshape(-1, 1))[0]\n",
    "snow_pred"
   ]
  },
  {
   "cell_type": "code",
   "execution_count": 19,
   "metadata": {},
   "outputs": [
    {
     "data": {
      "text/plain": [
       "0.5"
      ]
     },
     "execution_count": 19,
     "metadata": {},
     "output_type": "execute_result"
    }
   ],
   "source": [
    "np.mean(np.where(snow_pred > df2.PRCP, 1, 0))"
   ]
  }
 ],
 "metadata": {
  "kernelspec": {
   "display_name": "Python 3",
   "language": "python",
   "name": "python3"
  },
  "language_info": {
   "codemirror_mode": {
    "name": "ipython",
    "version": 3
   },
   "file_extension": ".py",
   "mimetype": "text/x-python",
   "name": "python",
   "nbconvert_exporter": "python",
   "pygments_lexer": "ipython3",
   "version": "3.5.2"
  }
 },
 "nbformat": 4,
 "nbformat_minor": 2
}
